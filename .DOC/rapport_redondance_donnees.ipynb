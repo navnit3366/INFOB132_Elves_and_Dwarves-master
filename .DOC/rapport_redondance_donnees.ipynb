{
 "metadata": {
  "name": "",
  "signature": "sha256:e3c35fe0c7eb28d6a66cc618bbcddc836c46c2406e59d89fab452fd7332b1c9f"
 },
 "nbformat": 3,
 "nbformat_minor": 0,
 "worksheets": [
  {
   "cells": [
    {
     "cell_type": "heading",
     "level": 2,
     "metadata": {},
     "source": [
      "Groupe 42"
     ]
    },
    {
     "cell_type": "heading",
     "level": 1,
     "metadata": {},
     "source": [
      "La redondance des donn\u00e9es est n\u00e9cessaire. Explications:"
     ]
    },
    {
     "cell_type": "markdown",
     "metadata": {},
     "source": [
      "Nous voulons du code simple et clair. Que chaque membre de notre groupe puisse le lire et le comprendre.\n",
      "Notre strat\u00e9gie: stocker le maximum de choses dans un dictionnaire. Ainsi, notre code n'effectue pas de calculs ou de v\u00e9rifications inutiles.\n",
      "En d'autres termes: si un \"if\" ou une boucle peut \u00eatre \u00e9vit\u00e9 rien qu'en stockant une info, nous la stockons."
     ]
    },
    {
     "cell_type": "heading",
     "level": 3,
     "metadata": {},
     "source": [
      "1. Structure de donn\u00e9es (data_map):"
     ]
    },
    {
     "cell_type": "markdown",
     "metadata": {},
     "source": [
      "<img src=\"http://i.imgur.com/g1pMnl6.jpg\">"
     ]
    },
    {
     "cell_type": "markdown",
     "metadata": {},
     "source": [
      "La structure a cette forme \u00e0 cause de notre affichage: Nous devons imprimer un damier avec toutes les cases et un tableau ordonn\u00e9  de chaque pions (tableau de statistiques)."
     ]
    },
    {
     "cell_type": "heading",
     "level": 3,
     "metadata": {},
     "source": [
      "2. Le damier:"
     ]
    },
    {
     "cell_type": "markdown",
     "metadata": {},
     "source": [
      "La mani\u00e8re la plus simple de l'imprimer est de parcourir et d'imprimer chacune des cases. Ce que nous faisons avec un code similaire \u00e0 celui ci:"
     ]
    },
    {
     "cell_type": "code",
     "collapsed": false,
     "input": [
      "for line in range size:\n",
      "    for collumn in range size:\n",
      "        \n",
      "        cell_info = cell_dict.get((line, collumn), False)\n",
      "        \n",
      "        if cell_info:\n",
      "            print cell_info\n",
      "        else:\n",
      "            print 'case vide'\n",
      "            \n",
      "#size: la taille du damier.\n",
      "#cell_dict: dictionnaire regroupant le contenu de 'player1_E', 'player1_D', 'player2_E' et 'player2_D'."
     ],
     "language": "python",
     "metadata": {},
     "outputs": []
    },
    {
     "cell_type": "markdown",
     "metadata": {},
     "source": [
      "Toutes les informations concernant un pion (type, couleur, vie) sont r\u00e9cup\u00e9r\u00e9es dans cell_info. Si la couleur ne s'y trouve pas, il faut soit:<br>\n",
      "   - Remonter l'arborescence de la structure de donn\u00e9es -> Impossible avec des dictionnaires, ou sans boucles.<br>\n",
      "   - V\u00e9rifier \u00e0 quel joueur appartient le pion et en d\u00e9duire la couleur -> Trop compliqu\u00e9 avec notre structure actuelle et n\u00e9cessite des boucles."
     ]
    },
    {
     "cell_type": "markdown",
     "metadata": {},
     "source": [
      "Donc la couleur doit \u00eatre enregistr\u00e9e avec la vie et le type de pion, comme actuellement."
     ]
    },
    {
     "cell_type": "heading",
     "level": 5,
     "metadata": {},
     "source": [
      "Pourquoi ne pas supprimer la couleur de 'player1_info' et 'player_2info' ?"
     ]
    },
    {
     "cell_type": "markdown",
     "metadata": {},
     "source": [
      "- A l'avenir, le joueur pourra choisir sa couleu. player1 et player2 ne sous-entendent donc pas une couleur.\n",
      "- La couleur de fond de notre UI correspond \u00e0 la couleur du joueur qui est en train de jouer. Elle doit donc \u00eatre une variable accessible facilement."
     ]
    },
    {
     "cell_type": "heading",
     "level": 3,
     "metadata": {},
     "source": [
      "3. Le tableau de statistiques:"
     ]
    },
    {
     "cell_type": "markdown",
     "metadata": {},
     "source": [
      "Il s'affiche comme une liste des pions du joueur. Les elfes ensemble et les nains ensemble, comme ceci:<br>\n",
      "<img src=\"http://i.imgur.com/VKOwV01.jpg\">"
     ]
    },
    {
     "cell_type": "markdown",
     "metadata": {},
     "source": [
      "La seule mani\u00e8re d'afficher cela facilement est de r\u00e9partir les pions elfes et nains de chaque joueur dans des dictionnaires diff\u00e9rents. Nous l'avons fait avec 'player1_E' et 'player1_D' (et pareil pour le player2). Autrement, v\u00e9rifier le type de chaque pion serait n\u00e9cessaire -> boucles."
     ]
    },
    {
     "cell_type": "heading",
     "level": 3,
     "metadata": {},
     "source": [
      "4. Conclusion:"
     ]
    },
    {
     "cell_type": "markdown",
     "metadata": {},
     "source": [
      "En suivant notre ligne de conduite (code simple et clair), la redondance des donn\u00e9es n'est pas superflue: La couleur dans 'player1_info' n'est pas acessible par la fonction qui imprime le damier. Et les couleurs enregistr\u00e9es pour chaque pions ne sont pas acessibles pour la fonction qui imprime le fond de l'UI. D'o\u00f9 la n\u00e9cessit\u00e9 de l'enregistrer plusieurs fois.<br>Le type de pion ('E' ou 'D') est \u00e9galement r\u00e9p\u00e9t\u00e9 pour faciliter l'impression du damier et des statistiques."
     ]
    },
    {
     "cell_type": "markdown",
     "metadata": {},
     "source": [
      "La redondance des donn\u00e9es est n\u00e9cessaire. Bien qu'alourdissant notre structure, elle \u00e9vite les v\u00e9rifications inutiles et simplifie donc notre code."
     ]
    },
    {
     "cell_type": "code",
     "collapsed": false,
     "input": [],
     "language": "python",
     "metadata": {},
     "outputs": []
    }
   ],
   "metadata": {}
  }
 ]
}